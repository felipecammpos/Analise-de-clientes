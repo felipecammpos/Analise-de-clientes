{
 "cells": [
  {
   "cell_type": "markdown",
   "id": "4290adc0-2164-48d5-b43b-47a6ff046095",
   "metadata": {},
   "source": [
    "# Análise de Clientes"
   ]
  },
  {
   "cell_type": "code",
   "execution_count": 55,
   "id": "69f8ddcf-5ddd-4ad5-885a-c9eb9752b4ca",
   "metadata": {},
   "outputs": [],
   "source": [
    "import pandas as pd\n",
    "import numpy as np\n",
    "import seaborn as sns\n",
    "import matplotlib.pyplot as plt\n",
    "from IPython.core.interactiveshell import InteractiveShell\n",
    "InteractiveShell.ast_node_interactivity = \"all\""
   ]
  },
  {
   "cell_type": "code",
   "execution_count": 17,
   "id": "202959d4-b245-4f7b-9269-2b3aaae7326a",
   "metadata": {},
   "outputs": [
    {
     "name": "stderr",
     "output_type": "stream",
     "text": [
      "C:\\Users\\Flp\\anaconda3\\Lib\\site-packages\\openpyxl\\worksheet\\header_footer.py:48: UserWarning: Cannot parse header or footer so it will be ignored\n",
      "  warn(\"\"\"Cannot parse header or footer so it will be ignored\"\"\")\n"
     ]
    },
    {
     "data": {
      "text/html": [
       "<div>\n",
       "<style scoped>\n",
       "    .dataframe tbody tr th:only-of-type {\n",
       "        vertical-align: middle;\n",
       "    }\n",
       "\n",
       "    .dataframe tbody tr th {\n",
       "        vertical-align: top;\n",
       "    }\n",
       "\n",
       "    .dataframe thead th {\n",
       "        text-align: right;\n",
       "    }\n",
       "</style>\n",
       "<table border=\"1\" class=\"dataframe\">\n",
       "  <thead>\n",
       "    <tr style=\"text-align: right;\">\n",
       "      <th></th>\n",
       "      <th>ID</th>\n",
       "      <th>X1</th>\n",
       "      <th>X2</th>\n",
       "      <th>X3</th>\n",
       "      <th>X4</th>\n",
       "      <th>X5</th>\n",
       "      <th>X6</th>\n",
       "      <th>X7</th>\n",
       "      <th>X8</th>\n",
       "      <th>X9</th>\n",
       "      <th>X10</th>\n",
       "      <th>X11</th>\n",
       "      <th>X12</th>\n",
       "      <th>X13</th>\n",
       "    </tr>\n",
       "  </thead>\n",
       "  <tbody>\n",
       "    <tr>\n",
       "      <th>0</th>\n",
       "      <td>381</td>\n",
       "      <td>3</td>\n",
       "      <td>25</td>\n",
       "      <td>4</td>\n",
       "      <td>2</td>\n",
       "      <td>1</td>\n",
       "      <td>4</td>\n",
       "      <td>16.00</td>\n",
       "      <td>6</td>\n",
       "      <td>90.6</td>\n",
       "      <td>5</td>\n",
       "      <td>5</td>\n",
       "      <td>4</td>\n",
       "      <td>4</td>\n",
       "    </tr>\n",
       "    <tr>\n",
       "      <th>1</th>\n",
       "      <td>216</td>\n",
       "      <td>4</td>\n",
       "      <td>51</td>\n",
       "      <td>4</td>\n",
       "      <td>1</td>\n",
       "      <td>3</td>\n",
       "      <td>2</td>\n",
       "      <td>9.48</td>\n",
       "      <td>3</td>\n",
       "      <td>15.7</td>\n",
       "      <td>4</td>\n",
       "      <td>1</td>\n",
       "      <td>4</td>\n",
       "      <td>6</td>\n",
       "    </tr>\n",
       "    <tr>\n",
       "      <th>2</th>\n",
       "      <td>57</td>\n",
       "      <td>1</td>\n",
       "      <td>42</td>\n",
       "      <td>4</td>\n",
       "      <td>1</td>\n",
       "      <td>3</td>\n",
       "      <td>3</td>\n",
       "      <td>7.87</td>\n",
       "      <td>2</td>\n",
       "      <td>130.4</td>\n",
       "      <td>6</td>\n",
       "      <td>5</td>\n",
       "      <td>5</td>\n",
       "      <td>5</td>\n",
       "    </tr>\n",
       "    <tr>\n",
       "      <th>3</th>\n",
       "      <td>158</td>\n",
       "      <td>3</td>\n",
       "      <td>24</td>\n",
       "      <td>5</td>\n",
       "      <td>1</td>\n",
       "      <td>3</td>\n",
       "      <td>3</td>\n",
       "      <td>8.45</td>\n",
       "      <td>4</td>\n",
       "      <td>60.7</td>\n",
       "      <td>4</td>\n",
       "      <td>5</td>\n",
       "      <td>2</td>\n",
       "      <td>3</td>\n",
       "    </tr>\n",
       "    <tr>\n",
       "      <th>4</th>\n",
       "      <td>39</td>\n",
       "      <td>3</td>\n",
       "      <td>44</td>\n",
       "      <td>4</td>\n",
       "      <td>2</td>\n",
       "      <td>1</td>\n",
       "      <td>4</td>\n",
       "      <td>18.46</td>\n",
       "      <td>3</td>\n",
       "      <td>55.2</td>\n",
       "      <td>4</td>\n",
       "      <td>5</td>\n",
       "      <td>2</td>\n",
       "      <td>1</td>\n",
       "    </tr>\n",
       "    <tr>\n",
       "      <th>...</th>\n",
       "      <td>...</td>\n",
       "      <td>...</td>\n",
       "      <td>...</td>\n",
       "      <td>...</td>\n",
       "      <td>...</td>\n",
       "      <td>...</td>\n",
       "      <td>...</td>\n",
       "      <td>...</td>\n",
       "      <td>...</td>\n",
       "      <td>...</td>\n",
       "      <td>...</td>\n",
       "      <td>...</td>\n",
       "      <td>...</td>\n",
       "      <td>...</td>\n",
       "    </tr>\n",
       "    <tr>\n",
       "      <th>245</th>\n",
       "      <td>248</td>\n",
       "      <td>3</td>\n",
       "      <td>26</td>\n",
       "      <td>1</td>\n",
       "      <td>1</td>\n",
       "      <td>1</td>\n",
       "      <td>4</td>\n",
       "      <td>3.16</td>\n",
       "      <td>4</td>\n",
       "      <td>96.2</td>\n",
       "      <td>5</td>\n",
       "      <td>4</td>\n",
       "      <td>3</td>\n",
       "      <td>4</td>\n",
       "    </tr>\n",
       "    <tr>\n",
       "      <th>246</th>\n",
       "      <td>327</td>\n",
       "      <td>3</td>\n",
       "      <td>61</td>\n",
       "      <td>4</td>\n",
       "      <td>2</td>\n",
       "      <td>1</td>\n",
       "      <td>2</td>\n",
       "      <td>18.61</td>\n",
       "      <td>4</td>\n",
       "      <td>26.1</td>\n",
       "      <td>4</td>\n",
       "      <td>1</td>\n",
       "      <td>4</td>\n",
       "      <td>4</td>\n",
       "    </tr>\n",
       "    <tr>\n",
       "      <th>247</th>\n",
       "      <td>382</td>\n",
       "      <td>3</td>\n",
       "      <td>38</td>\n",
       "      <td>4</td>\n",
       "      <td>1</td>\n",
       "      <td>2</td>\n",
       "      <td>3</td>\n",
       "      <td>17.95</td>\n",
       "      <td>1</td>\n",
       "      <td>67.3</td>\n",
       "      <td>6</td>\n",
       "      <td>6</td>\n",
       "      <td>4</td>\n",
       "      <td>5</td>\n",
       "    </tr>\n",
       "    <tr>\n",
       "      <th>248</th>\n",
       "      <td>285</td>\n",
       "      <td>3</td>\n",
       "      <td>15</td>\n",
       "      <td>1</td>\n",
       "      <td>2</td>\n",
       "      <td>1</td>\n",
       "      <td>4</td>\n",
       "      <td>3.61</td>\n",
       "      <td>1</td>\n",
       "      <td>55.2</td>\n",
       "      <td>6</td>\n",
       "      <td>3</td>\n",
       "      <td>4</td>\n",
       "      <td>5</td>\n",
       "    </tr>\n",
       "    <tr>\n",
       "      <th>249</th>\n",
       "      <td>276</td>\n",
       "      <td>3</td>\n",
       "      <td>46</td>\n",
       "      <td>2</td>\n",
       "      <td>1</td>\n",
       "      <td>1</td>\n",
       "      <td>3</td>\n",
       "      <td>18.39</td>\n",
       "      <td>4</td>\n",
       "      <td>196.3</td>\n",
       "      <td>6</td>\n",
       "      <td>6</td>\n",
       "      <td>6</td>\n",
       "      <td>6</td>\n",
       "    </tr>\n",
       "  </tbody>\n",
       "</table>\n",
       "<p>250 rows × 14 columns</p>\n",
       "</div>"
      ],
      "text/plain": [
       "      ID  X1  X2  X3  X4  X5  X6     X7  X8     X9  X10  X11  X12  X13\n",
       "0    381   3  25   4   2   1   4  16.00   6   90.6    5    5    4    4\n",
       "1    216   4  51   4   1   3   2   9.48   3   15.7    4    1    4    6\n",
       "2     57   1  42   4   1   3   3   7.87   2  130.4    6    5    5    5\n",
       "3    158   3  24   5   1   3   3   8.45   4   60.7    4    5    2    3\n",
       "4     39   3  44   4   2   1   4  18.46   3   55.2    4    5    2    1\n",
       "..   ...  ..  ..  ..  ..  ..  ..    ...  ..    ...  ...  ...  ...  ...\n",
       "245  248   3  26   1   1   1   4   3.16   4   96.2    5    4    3    4\n",
       "246  327   3  61   4   2   1   2  18.61   4   26.1    4    1    4    4\n",
       "247  382   3  38   4   1   2   3  17.95   1   67.3    6    6    4    5\n",
       "248  285   3  15   1   2   1   4   3.61   1   55.2    6    3    4    5\n",
       "249  276   3  46   2   1   1   3  18.39   4  196.3    6    6    6    6\n",
       "\n",
       "[250 rows x 14 columns]"
      ]
     },
     "execution_count": 17,
     "metadata": {},
     "output_type": "execute_result"
    }
   ],
   "source": [
    "df = pd.read_excel('CLIENTES_SHOPPING_05.xlsx')\n",
    "df"
   ]
  },
  {
   "cell_type": "code",
   "execution_count": 18,
   "id": "93266ddb-cc7a-48c5-9b76-16d70872476b",
   "metadata": {},
   "outputs": [],
   "source": [
    "df['X1'] = df['X1'].map({1: 'Centro', 2: 'Oeste', 3: 'Leste', 4: 'Sul'})\n",
    "df['X3'] = df['X3'].map({1: 'Solteiro', 2: 'Divorciado ou Separado', 3: 'Viuvo', 4: 'Casado', 5: 'Uniao Estavel'})\n",
    "df['X4'] = df['X4'].map({1: 'Feminino', 2: 'Masculino'})\n",
    "df['X5'] = df['X5'].map({1: 'Tempo Integral', 2: 'Tempo Parcial', 3: 'Desempregado'})\n",
    "df['X6'] = df['X6'].map({1: 'Fundamental Incompleto', 2: 'Fundamental Completo', 3: 'Medio Completo', 4: 'Superior Incompleto', 5: 'Superior Completo'})\n",
    "df['X8'] = df['X8'].map({1: 'Material esportivo', 2: 'Livraria / Discos', 3: 'Loja de departamento / Brinquedos / Presentes', 4: 'Eletrodomésticos', 5: 'Roupa feminina', 6: 'Roupa masculina', 7: 'Loja de departamentos mais sofisticada'})\n"
   ]
  },
  {
   "cell_type": "code",
   "execution_count": 23,
   "id": "8c04252b-7053-4e20-87bb-2ba02a1f22d4",
   "metadata": {},
   "outputs": [
    {
     "data": {
      "text/html": [
       "<div>\n",
       "<style scoped>\n",
       "    .dataframe tbody tr th:only-of-type {\n",
       "        vertical-align: middle;\n",
       "    }\n",
       "\n",
       "    .dataframe tbody tr th {\n",
       "        vertical-align: top;\n",
       "    }\n",
       "\n",
       "    .dataframe thead th {\n",
       "        text-align: right;\n",
       "    }\n",
       "</style>\n",
       "<table border=\"1\" class=\"dataframe\">\n",
       "  <thead>\n",
       "    <tr style=\"text-align: right;\">\n",
       "      <th></th>\n",
       "      <th>ID</th>\n",
       "      <th>Local de Residencia</th>\n",
       "      <th>Idade</th>\n",
       "      <th>Estado Civil</th>\n",
       "      <th>Sexo</th>\n",
       "      <th>Emprego</th>\n",
       "      <th>Escolaridade</th>\n",
       "      <th>Renda</th>\n",
       "      <th>Tipo de Loja</th>\n",
       "      <th>Valor Ultima Compra</th>\n",
       "      <th>Consumidor Impulsivo</th>\n",
       "      <th>Compro mais em promocao</th>\n",
       "      <th>Escolho qualidade e nao preco</th>\n",
       "      <th>Elevo auto-estima comprando para mim</th>\n",
       "    </tr>\n",
       "  </thead>\n",
       "  <tbody>\n",
       "    <tr>\n",
       "      <th>0</th>\n",
       "      <td>381</td>\n",
       "      <td>Leste</td>\n",
       "      <td>25</td>\n",
       "      <td>Casado</td>\n",
       "      <td>Masculino</td>\n",
       "      <td>Tempo Integral</td>\n",
       "      <td>Superior Incompleto</td>\n",
       "      <td>16.00</td>\n",
       "      <td>Roupa masculina</td>\n",
       "      <td>90.6</td>\n",
       "      <td>5</td>\n",
       "      <td>5</td>\n",
       "      <td>4</td>\n",
       "      <td>4</td>\n",
       "    </tr>\n",
       "    <tr>\n",
       "      <th>1</th>\n",
       "      <td>216</td>\n",
       "      <td>Sul</td>\n",
       "      <td>51</td>\n",
       "      <td>Casado</td>\n",
       "      <td>Feminino</td>\n",
       "      <td>Desempregado</td>\n",
       "      <td>Fundamental Completo</td>\n",
       "      <td>9.48</td>\n",
       "      <td>Loja de departamento / Brinquedos / Presentes</td>\n",
       "      <td>15.7</td>\n",
       "      <td>4</td>\n",
       "      <td>1</td>\n",
       "      <td>4</td>\n",
       "      <td>6</td>\n",
       "    </tr>\n",
       "    <tr>\n",
       "      <th>2</th>\n",
       "      <td>57</td>\n",
       "      <td>Centro</td>\n",
       "      <td>42</td>\n",
       "      <td>Casado</td>\n",
       "      <td>Feminino</td>\n",
       "      <td>Desempregado</td>\n",
       "      <td>Medio Completo</td>\n",
       "      <td>7.87</td>\n",
       "      <td>Livraria / Discos</td>\n",
       "      <td>130.4</td>\n",
       "      <td>6</td>\n",
       "      <td>5</td>\n",
       "      <td>5</td>\n",
       "      <td>5</td>\n",
       "    </tr>\n",
       "    <tr>\n",
       "      <th>3</th>\n",
       "      <td>158</td>\n",
       "      <td>Leste</td>\n",
       "      <td>24</td>\n",
       "      <td>Uniao Estavel</td>\n",
       "      <td>Feminino</td>\n",
       "      <td>Desempregado</td>\n",
       "      <td>Medio Completo</td>\n",
       "      <td>8.45</td>\n",
       "      <td>Eletrodomésticos</td>\n",
       "      <td>60.7</td>\n",
       "      <td>4</td>\n",
       "      <td>5</td>\n",
       "      <td>2</td>\n",
       "      <td>3</td>\n",
       "    </tr>\n",
       "    <tr>\n",
       "      <th>4</th>\n",
       "      <td>39</td>\n",
       "      <td>Leste</td>\n",
       "      <td>44</td>\n",
       "      <td>Casado</td>\n",
       "      <td>Masculino</td>\n",
       "      <td>Tempo Integral</td>\n",
       "      <td>Superior Incompleto</td>\n",
       "      <td>18.46</td>\n",
       "      <td>Loja de departamento / Brinquedos / Presentes</td>\n",
       "      <td>55.2</td>\n",
       "      <td>4</td>\n",
       "      <td>5</td>\n",
       "      <td>2</td>\n",
       "      <td>1</td>\n",
       "    </tr>\n",
       "    <tr>\n",
       "      <th>...</th>\n",
       "      <td>...</td>\n",
       "      <td>...</td>\n",
       "      <td>...</td>\n",
       "      <td>...</td>\n",
       "      <td>...</td>\n",
       "      <td>...</td>\n",
       "      <td>...</td>\n",
       "      <td>...</td>\n",
       "      <td>...</td>\n",
       "      <td>...</td>\n",
       "      <td>...</td>\n",
       "      <td>...</td>\n",
       "      <td>...</td>\n",
       "      <td>...</td>\n",
       "    </tr>\n",
       "    <tr>\n",
       "      <th>245</th>\n",
       "      <td>248</td>\n",
       "      <td>Leste</td>\n",
       "      <td>26</td>\n",
       "      <td>Solteiro</td>\n",
       "      <td>Feminino</td>\n",
       "      <td>Tempo Integral</td>\n",
       "      <td>Superior Incompleto</td>\n",
       "      <td>3.16</td>\n",
       "      <td>Eletrodomésticos</td>\n",
       "      <td>96.2</td>\n",
       "      <td>5</td>\n",
       "      <td>4</td>\n",
       "      <td>3</td>\n",
       "      <td>4</td>\n",
       "    </tr>\n",
       "    <tr>\n",
       "      <th>246</th>\n",
       "      <td>327</td>\n",
       "      <td>Leste</td>\n",
       "      <td>61</td>\n",
       "      <td>Casado</td>\n",
       "      <td>Masculino</td>\n",
       "      <td>Tempo Integral</td>\n",
       "      <td>Fundamental Completo</td>\n",
       "      <td>18.61</td>\n",
       "      <td>Eletrodomésticos</td>\n",
       "      <td>26.1</td>\n",
       "      <td>4</td>\n",
       "      <td>1</td>\n",
       "      <td>4</td>\n",
       "      <td>4</td>\n",
       "    </tr>\n",
       "    <tr>\n",
       "      <th>247</th>\n",
       "      <td>382</td>\n",
       "      <td>Leste</td>\n",
       "      <td>38</td>\n",
       "      <td>Casado</td>\n",
       "      <td>Feminino</td>\n",
       "      <td>Tempo Parcial</td>\n",
       "      <td>Medio Completo</td>\n",
       "      <td>17.95</td>\n",
       "      <td>Material esportivo</td>\n",
       "      <td>67.3</td>\n",
       "      <td>6</td>\n",
       "      <td>6</td>\n",
       "      <td>4</td>\n",
       "      <td>5</td>\n",
       "    </tr>\n",
       "    <tr>\n",
       "      <th>248</th>\n",
       "      <td>285</td>\n",
       "      <td>Leste</td>\n",
       "      <td>15</td>\n",
       "      <td>Solteiro</td>\n",
       "      <td>Masculino</td>\n",
       "      <td>Tempo Integral</td>\n",
       "      <td>Superior Incompleto</td>\n",
       "      <td>3.61</td>\n",
       "      <td>Material esportivo</td>\n",
       "      <td>55.2</td>\n",
       "      <td>6</td>\n",
       "      <td>3</td>\n",
       "      <td>4</td>\n",
       "      <td>5</td>\n",
       "    </tr>\n",
       "    <tr>\n",
       "      <th>249</th>\n",
       "      <td>276</td>\n",
       "      <td>Leste</td>\n",
       "      <td>46</td>\n",
       "      <td>Divorciado ou Separado</td>\n",
       "      <td>Feminino</td>\n",
       "      <td>Tempo Integral</td>\n",
       "      <td>Medio Completo</td>\n",
       "      <td>18.39</td>\n",
       "      <td>Eletrodomésticos</td>\n",
       "      <td>196.3</td>\n",
       "      <td>6</td>\n",
       "      <td>6</td>\n",
       "      <td>6</td>\n",
       "      <td>6</td>\n",
       "    </tr>\n",
       "  </tbody>\n",
       "</table>\n",
       "<p>250 rows × 14 columns</p>\n",
       "</div>"
      ],
      "text/plain": [
       "      ID Local de Residencia  Idade            Estado Civil       Sexo  \\\n",
       "0    381               Leste     25                  Casado  Masculino   \n",
       "1    216                 Sul     51                  Casado   Feminino   \n",
       "2     57              Centro     42                  Casado   Feminino   \n",
       "3    158               Leste     24           Uniao Estavel   Feminino   \n",
       "4     39               Leste     44                  Casado  Masculino   \n",
       "..   ...                 ...    ...                     ...        ...   \n",
       "245  248               Leste     26                Solteiro   Feminino   \n",
       "246  327               Leste     61                  Casado  Masculino   \n",
       "247  382               Leste     38                  Casado   Feminino   \n",
       "248  285               Leste     15                Solteiro  Masculino   \n",
       "249  276               Leste     46  Divorciado ou Separado   Feminino   \n",
       "\n",
       "            Emprego          Escolaridade  Renda  \\\n",
       "0    Tempo Integral   Superior Incompleto  16.00   \n",
       "1      Desempregado  Fundamental Completo   9.48   \n",
       "2      Desempregado        Medio Completo   7.87   \n",
       "3      Desempregado        Medio Completo   8.45   \n",
       "4    Tempo Integral   Superior Incompleto  18.46   \n",
       "..              ...                   ...    ...   \n",
       "245  Tempo Integral   Superior Incompleto   3.16   \n",
       "246  Tempo Integral  Fundamental Completo  18.61   \n",
       "247   Tempo Parcial        Medio Completo  17.95   \n",
       "248  Tempo Integral   Superior Incompleto   3.61   \n",
       "249  Tempo Integral        Medio Completo  18.39   \n",
       "\n",
       "                                      Tipo de Loja  Valor Ultima Compra  \\\n",
       "0                                  Roupa masculina                 90.6   \n",
       "1    Loja de departamento / Brinquedos / Presentes                 15.7   \n",
       "2                                Livraria / Discos                130.4   \n",
       "3                                 Eletrodomésticos                 60.7   \n",
       "4    Loja de departamento / Brinquedos / Presentes                 55.2   \n",
       "..                                             ...                  ...   \n",
       "245                               Eletrodomésticos                 96.2   \n",
       "246                               Eletrodomésticos                 26.1   \n",
       "247                             Material esportivo                 67.3   \n",
       "248                             Material esportivo                 55.2   \n",
       "249                               Eletrodomésticos                196.3   \n",
       "\n",
       "     Consumidor Impulsivo  Compro mais em promocao  \\\n",
       "0                       5                        5   \n",
       "1                       4                        1   \n",
       "2                       6                        5   \n",
       "3                       4                        5   \n",
       "4                       4                        5   \n",
       "..                    ...                      ...   \n",
       "245                     5                        4   \n",
       "246                     4                        1   \n",
       "247                     6                        6   \n",
       "248                     6                        3   \n",
       "249                     6                        6   \n",
       "\n",
       "     Escolho qualidade e nao preco  Elevo auto-estima comprando para mim  \n",
       "0                                4                                     4  \n",
       "1                                4                                     6  \n",
       "2                                5                                     5  \n",
       "3                                2                                     3  \n",
       "4                                2                                     1  \n",
       "..                             ...                                   ...  \n",
       "245                              3                                     4  \n",
       "246                              4                                     4  \n",
       "247                              4                                     5  \n",
       "248                              4                                     5  \n",
       "249                              6                                     6  \n",
       "\n",
       "[250 rows x 14 columns]"
      ]
     },
     "execution_count": 23,
     "metadata": {},
     "output_type": "execute_result"
    }
   ],
   "source": [
    "df.rename(columns = {'X1': 'Local de Residencia', 'X2': 'Idade', 'X3': 'Estado Civil', 'X4': 'Sexo', 'X5': 'Emprego', 'X6': 'Escolaridade', 'X7': 'Renda',\n",
    "                    'X8': 'Tipo de Loja', 'X9': 'Valor Ultima Compra', 'X10': 'Consumidor Impulsivo', 'X11': 'Compro mais em promocao', \n",
    "                     'X12':'Escolho qualidade e nao preco', 'X13': 'Elevo auto-estima comprando para mim',}, inplace = True)\n",
    "df"
   ]
  },
  {
   "cell_type": "markdown",
   "id": "4b05ea44",
   "metadata": {},
   "source": [
    "## características dos clientes, de suas últimas compras e como eles se classificam como consumidores"
   ]
  },
  {
   "cell_type": "code",
   "execution_count": 59,
   "id": "38eeb8e2",
   "metadata": {},
   "outputs": [
    {
     "data": {
      "text/html": [
       "<div>\n",
       "<style scoped>\n",
       "    .dataframe tbody tr th:only-of-type {\n",
       "        vertical-align: middle;\n",
       "    }\n",
       "\n",
       "    .dataframe tbody tr th {\n",
       "        vertical-align: top;\n",
       "    }\n",
       "\n",
       "    .dataframe thead th {\n",
       "        text-align: right;\n",
       "    }\n",
       "</style>\n",
       "<table border=\"1\" class=\"dataframe\">\n",
       "  <thead>\n",
       "    <tr style=\"text-align: right;\">\n",
       "      <th></th>\n",
       "      <th>mean</th>\n",
       "      <th>std</th>\n",
       "    </tr>\n",
       "    <tr>\n",
       "      <th>Sexo</th>\n",
       "      <th></th>\n",
       "      <th></th>\n",
       "    </tr>\n",
       "  </thead>\n",
       "  <tbody>\n",
       "    <tr>\n",
       "      <th>Feminino</th>\n",
       "      <td>38.83</td>\n",
       "      <td>13.31</td>\n",
       "    </tr>\n",
       "    <tr>\n",
       "      <th>Masculino</th>\n",
       "      <td>34.27</td>\n",
       "      <td>13.21</td>\n",
       "    </tr>\n",
       "  </tbody>\n",
       "</table>\n",
       "</div>"
      ],
      "text/plain": [
       "            mean    std\n",
       "Sexo                   \n",
       "Feminino   38.83  13.31\n",
       "Masculino  34.27  13.21"
      ]
     },
     "execution_count": 59,
     "metadata": {},
     "output_type": "execute_result"
    },
    {
     "data": {
      "text/plain": [
       "<Axes: xlabel='Sexo'>"
      ]
     },
     "execution_count": 59,
     "metadata": {},
     "output_type": "execute_result"
    },
    {
     "data": {
      "text/plain": [
       "Text(0.5, 1.0, 'Média e Variação da Idade por Sexo')"
      ]
     },
     "execution_count": 59,
     "metadata": {},
     "output_type": "execute_result"
    },
    {
     "data": {
      "text/plain": [
       "Text(0, 0.5, 'Idade Média')"
      ]
     },
     "execution_count": 59,
     "metadata": {},
     "output_type": "execute_result"
    },
    {
     "data": {
      "text/plain": [
       "Text(0.5, 0, 'Sexo')"
      ]
     },
     "execution_count": 59,
     "metadata": {},
     "output_type": "execute_result"
    },
    {
     "data": {
      "text/plain": [
       "(array([0, 1]), [Text(0, 0, 'Feminino'), Text(1, 0, 'Masculino')])"
      ]
     },
     "execution_count": 59,
     "metadata": {},
     "output_type": "execute_result"
    },
    {
     "data": {
      "image/png": "[encoded data removed]",
      "text/plain": [
       "<Figure size 640x480 with 1 Axes>"
      ]
     },
     "metadata": {},
     "output_type": "display_data"
    }
   ],
   "source": [
    "#Média de idade por sexo\n",
    "variacao_idade = df.groupby('Sexo')['Idade'].agg(['mean', 'std']).round(2)\n",
    "variacao_idade\n",
    "variacao_idade.plot(kind='bar', y='mean', yerr='std', capsize=4, legend=False)\n",
    "plt.title(\"Média e Variação da Idade por Sexo\")\n",
    "plt.ylabel(\"Idade Média\")\n",
    "plt.xlabel(\"Sexo\")\n",
    "plt.xticks(rotation=0)\n",
    "plt.grid(axis='y', linestyle='--', alpha=0.7)\n",
    "plt.show()"
   ]
  },
  {
   "cell_type": "code",
   "execution_count": 78,
   "id": "2a6c669e",
   "metadata": {},
   "outputs": [
    {
     "data": {
      "text/html": [
       "<div>\n",
       "<style scoped>\n",
       "    .dataframe tbody tr th:only-of-type {\n",
       "        vertical-align: middle;\n",
       "    }\n",
       "\n",
       "    .dataframe tbody tr th {\n",
       "        vertical-align: top;\n",
       "    }\n",
       "\n",
       "    .dataframe thead th {\n",
       "        text-align: right;\n",
       "    }\n",
       "</style>\n",
       "<table border=\"1\" class=\"dataframe\">\n",
       "  <thead>\n",
       "    <tr style=\"text-align: right;\">\n",
       "      <th></th>\n",
       "      <th>mean</th>\n",
       "      <th>std</th>\n",
       "    </tr>\n",
       "    <tr>\n",
       "      <th>Sexo</th>\n",
       "      <th></th>\n",
       "      <th></th>\n",
       "    </tr>\n",
       "  </thead>\n",
       "  <tbody>\n",
       "    <tr>\n",
       "      <th>Feminino</th>\n",
       "      <td>12.31</td>\n",
       "      <td>9.95</td>\n",
       "    </tr>\n",
       "    <tr>\n",
       "      <th>Masculino</th>\n",
       "      <td>15.84</td>\n",
       "      <td>9.29</td>\n",
       "    </tr>\n",
       "  </tbody>\n",
       "</table>\n",
       "</div>"
      ],
      "text/plain": [
       "            mean   std\n",
       "Sexo                  \n",
       "Feminino   12.31  9.95\n",
       "Masculino  15.84  9.29"
      ]
     },
     "execution_count": 78,
     "metadata": {},
     "output_type": "execute_result"
    },
    {
     "data": {
      "text/plain": [
       "<Axes: xlabel='Sexo'>"
      ]
     },
     "execution_count": 78,
     "metadata": {},
     "output_type": "execute_result"
    },
    {
     "data": {
      "text/plain": [
       "Text(0.5, 1.0, 'Salário Médio por Sexo')"
      ]
     },
     "execution_count": 78,
     "metadata": {},
     "output_type": "execute_result"
    },
    {
     "data": {
      "text/plain": [
       "Text(0, 0.5, 'Média de Salários (em salários mínimos)')"
      ]
     },
     "execution_count": 78,
     "metadata": {},
     "output_type": "execute_result"
    },
    {
     "data": {
      "text/plain": [
       "Text(0.5, 0, 'Sexo')"
      ]
     },
     "execution_count": 78,
     "metadata": {},
     "output_type": "execute_result"
    },
    {
     "data": {
      "text/plain": [
       "(array([0, 1]), [Text(0, 0, 'Feminino'), Text(1, 0, 'Masculino')])"
      ]
     },
     "execution_count": 78,
     "metadata": {},
     "output_type": "execute_result"
    },
    {
     "data": {
      "image/png": "[encoded data removed]",
      "text/plain": [
       "<Figure size 640x480 with 1 Axes>"
      ]
     },
     "metadata": {},
     "output_type": "display_data"
    }
   ],
   "source": [
    "#Quantidade de salários mínimos médio\n",
    "variacao_renda = df.groupby('Sexo')['Renda'].agg(['mean', 'std']).round(2)\n",
    "variacao_renda\n",
    "\n",
    "variacao_renda.plot(kind='bar', y='mean', yerr='std', capsize=4, legend=False)\n",
    "plt.title(\"Salário Médio por Sexo\") \n",
    "plt.ylabel(\"Média de Salários (em salários mínimos)\")\n",
    "plt.xlabel(\"Sexo\")\n",
    "plt.xticks(rotation=0)\n",
    "plt.grid(axis='y', linestyle='--', alpha=0.7)\n",
    "plt.show()\n"
   ]
  },
  {
   "cell_type": "code",
   "execution_count": 69,
   "id": "2bbfd9ad",
   "metadata": {},
   "outputs": [
    {
     "data": {
      "text/html": [
       "<div>\n",
       "<style scoped>\n",
       "    .dataframe tbody tr th:only-of-type {\n",
       "        vertical-align: middle;\n",
       "    }\n",
       "\n",
       "    .dataframe tbody tr th {\n",
       "        vertical-align: top;\n",
       "    }\n",
       "\n",
       "    .dataframe thead th {\n",
       "        text-align: right;\n",
       "    }\n",
       "</style>\n",
       "<table border=\"1\" class=\"dataframe\">\n",
       "  <thead>\n",
       "    <tr style=\"text-align: right;\">\n",
       "      <th></th>\n",
       "      <th>mean</th>\n",
       "      <th>std</th>\n",
       "    </tr>\n",
       "    <tr>\n",
       "      <th>Tipo de Loja</th>\n",
       "      <th></th>\n",
       "      <th></th>\n",
       "    </tr>\n",
       "  </thead>\n",
       "  <tbody>\n",
       "    <tr>\n",
       "      <th>Eletrodomésticos</th>\n",
       "      <td>100.91</td>\n",
       "      <td>48.48</td>\n",
       "    </tr>\n",
       "    <tr>\n",
       "      <th>Livraria / Discos</th>\n",
       "      <td>57.21</td>\n",
       "      <td>31.75</td>\n",
       "    </tr>\n",
       "    <tr>\n",
       "      <th>Loja de departamento / Brinquedos / Presentes</th>\n",
       "      <td>49.78</td>\n",
       "      <td>31.73</td>\n",
       "    </tr>\n",
       "    <tr>\n",
       "      <th>Loja de departamentos mais sofisticada</th>\n",
       "      <td>85.16</td>\n",
       "      <td>39.57</td>\n",
       "    </tr>\n",
       "    <tr>\n",
       "      <th>Material esportivo</th>\n",
       "      <td>90.55</td>\n",
       "      <td>38.54</td>\n",
       "    </tr>\n",
       "    <tr>\n",
       "      <th>Roupa feminina</th>\n",
       "      <td>111.48</td>\n",
       "      <td>61.12</td>\n",
       "    </tr>\n",
       "    <tr>\n",
       "      <th>Roupa masculina</th>\n",
       "      <td>65.68</td>\n",
       "      <td>31.58</td>\n",
       "    </tr>\n",
       "  </tbody>\n",
       "</table>\n",
       "</div>"
      ],
      "text/plain": [
       "                                                 mean    std\n",
       "Tipo de Loja                                                \n",
       "Eletrodomésticos                               100.91  48.48\n",
       "Livraria / Discos                               57.21  31.75\n",
       "Loja de departamento / Brinquedos / Presentes   49.78  31.73\n",
       "Loja de departamentos mais sofisticada          85.16  39.57\n",
       "Material esportivo                              90.55  38.54\n",
       "Roupa feminina                                 111.48  61.12\n",
       "Roupa masculina                                 65.68  31.58"
      ]
     },
     "execution_count": 69,
     "metadata": {},
     "output_type": "execute_result"
    },
    {
     "data": {
      "text/plain": [
       "<Figure size 800x500 with 0 Axes>"
      ]
     },
     "execution_count": 69,
     "metadata": {},
     "output_type": "execute_result"
    },
    {
     "data": {
      "text/plain": [
       "<Axes: xlabel='mean', ylabel='Tipo de Loja'>"
      ]
     },
     "execution_count": 69,
     "metadata": {},
     "output_type": "execute_result"
    },
    {
     "data": {
      "text/plain": [
       "Text(0.5, 1.0, 'Valor Médio da Última Compra por Tipo de Loja')"
      ]
     },
     "execution_count": 69,
     "metadata": {},
     "output_type": "execute_result"
    },
    {
     "data": {
      "text/plain": [
       "Text(0.5, 0, 'Valor Médio (R$)')"
      ]
     },
     "execution_count": 69,
     "metadata": {},
     "output_type": "execute_result"
    },
    {
     "data": {
      "text/plain": [
       "Text(0, 0.5, 'Tipo de Loja')"
      ]
     },
     "execution_count": 69,
     "metadata": {},
     "output_type": "execute_result"
    },
    {
     "data": {
      "image/png": "[encoded data removed]",
      "text/plain": [
       "<Figure size 800x500 with 1 Axes>"
      ]
     },
     "metadata": {},
     "output_type": "display_data"
    }
   ],
   "source": [
    "#Valor médio da ultima compra\n",
    "variacao_loja_compra = df.groupby('Tipo de Loja')['Valor Ultima Compra'].agg(['mean', 'std']).round(2)\n",
    "variacao_loja_compra\n",
    "\n",
    "# Criando o gráfico de barras horizontais com barras de erro\n",
    "plt.figure(figsize=(8, 5))\n",
    "sns.barplot(\n",
    "    data=variacao_loja_compra.reset_index(), \n",
    "    y='Tipo de Loja', \n",
    "    x='mean', \n",
    "    xerr=variacao_loja_compra['std'], \n",
    "    capsize=0.2, \n",
    "    color='#4c72b0'\n",
    ")\n",
    "\n",
    "# Configuração do gráfico\n",
    "plt.title(\"Valor Médio da Última Compra por Tipo de Loja\")\n",
    "plt.xlabel(\"Valor Médio (R$)\")\n",
    "plt.ylabel(\"Tipo de Loja\")\n",
    "plt.grid(axis='x', linestyle='--', alpha=0.7)\n",
    "plt.show()\n",
    "\n"
   ]
  },
  {
   "cell_type": "code",
   "execution_count": null,
   "id": "dd0f0cfe",
   "metadata": {},
   "outputs": [],
   "source": [
    "#Escala de consumidor compulsivo(quantidade por escala\n",
    "df['Consumidor Impulsivo'].value_counts(normalize = True)"
   ]
  },
  {
   "cell_type": "code",
   "execution_count": null,
   "id": "96ff33a2",
   "metadata": {},
   "outputs": [],
   "source": [
    "#Taxa de sexo por tipo de emprego\n",
    "(pd.crosstab(df['Sexo'], df['Emprego'], normalize = 'index')*100).round(2)"
   ]
  },
  {
   "cell_type": "code",
   "execution_count": 73,
   "id": "16934a54-e196-4a36-ac63-b47de41d91e6",
   "metadata": {},
   "outputs": [
    {
     "data": {
      "text/plain": [
       "Consumidor Impulsivo\n",
       "5    0.324\n",
       "4    0.260\n",
       "6    0.200\n",
       "3    0.112\n",
       "1    0.052\n",
       "2    0.052\n",
       "Name: proportion, dtype: float64"
      ]
     },
     "execution_count": 73,
     "metadata": {},
     "output_type": "execute_result"
    },
    {
     "data": {
      "text/html": [
       "<div>\n",
       "<style scoped>\n",
       "    .dataframe tbody tr th:only-of-type {\n",
       "        vertical-align: middle;\n",
       "    }\n",
       "\n",
       "    .dataframe tbody tr th {\n",
       "        vertical-align: top;\n",
       "    }\n",
       "\n",
       "    .dataframe thead th {\n",
       "        text-align: right;\n",
       "    }\n",
       "</style>\n",
       "<table border=\"1\" class=\"dataframe\">\n",
       "  <thead>\n",
       "    <tr style=\"text-align: right;\">\n",
       "      <th>Emprego</th>\n",
       "      <th>Desempregado</th>\n",
       "      <th>Tempo Integral</th>\n",
       "      <th>Tempo Parcial</th>\n",
       "    </tr>\n",
       "    <tr>\n",
       "      <th>Sexo</th>\n",
       "      <th></th>\n",
       "      <th></th>\n",
       "      <th></th>\n",
       "    </tr>\n",
       "  </thead>\n",
       "  <tbody>\n",
       "    <tr>\n",
       "      <th>Feminino</th>\n",
       "      <td>39.86</td>\n",
       "      <td>30.41</td>\n",
       "      <td>29.73</td>\n",
       "    </tr>\n",
       "    <tr>\n",
       "      <th>Masculino</th>\n",
       "      <td>9.80</td>\n",
       "      <td>78.43</td>\n",
       "      <td>11.76</td>\n",
       "    </tr>\n",
       "  </tbody>\n",
       "</table>\n",
       "</div>"
      ],
      "text/plain": [
       "Emprego    Desempregado  Tempo Integral  Tempo Parcial\n",
       "Sexo                                                  \n",
       "Feminino          39.86           30.41          29.73\n",
       "Masculino          9.80           78.43          11.76"
      ]
     },
     "execution_count": 73,
     "metadata": {},
     "output_type": "execute_result"
    },
    {
     "data": {
      "text/html": [
       "<div>\n",
       "<style scoped>\n",
       "    .dataframe tbody tr th:only-of-type {\n",
       "        vertical-align: middle;\n",
       "    }\n",
       "\n",
       "    .dataframe tbody tr th {\n",
       "        vertical-align: top;\n",
       "    }\n",
       "\n",
       "    .dataframe thead th {\n",
       "        text-align: right;\n",
       "    }\n",
       "</style>\n",
       "<table border=\"1\" class=\"dataframe\">\n",
       "  <thead>\n",
       "    <tr style=\"text-align: right;\">\n",
       "      <th>Estado Civil</th>\n",
       "      <th>Casado</th>\n",
       "      <th>Divorciado ou Separado</th>\n",
       "      <th>Solteiro</th>\n",
       "      <th>Uniao Estavel</th>\n",
       "      <th>Viuvo</th>\n",
       "    </tr>\n",
       "    <tr>\n",
       "      <th>Sexo</th>\n",
       "      <th></th>\n",
       "      <th></th>\n",
       "      <th></th>\n",
       "      <th></th>\n",
       "      <th></th>\n",
       "    </tr>\n",
       "  </thead>\n",
       "  <tbody>\n",
       "    <tr>\n",
       "      <th>Feminino</th>\n",
       "      <td>59.46</td>\n",
       "      <td>12.16</td>\n",
       "      <td>20.95</td>\n",
       "      <td>2.7</td>\n",
       "      <td>4.73</td>\n",
       "    </tr>\n",
       "    <tr>\n",
       "      <th>Masculino</th>\n",
       "      <td>68.63</td>\n",
       "      <td>0.00</td>\n",
       "      <td>25.49</td>\n",
       "      <td>4.9</td>\n",
       "      <td>0.98</td>\n",
       "    </tr>\n",
       "  </tbody>\n",
       "</table>\n",
       "</div>"
      ],
      "text/plain": [
       "Estado Civil  Casado  Divorciado ou Separado  Solteiro  Uniao Estavel  Viuvo\n",
       "Sexo                                                                        \n",
       "Feminino       59.46                   12.16     20.95            2.7   4.73\n",
       "Masculino      68.63                    0.00     25.49            4.9   0.98"
      ]
     },
     "execution_count": 73,
     "metadata": {},
     "output_type": "execute_result"
    }
   ],
   "source": [
    "(pd.crosstab(df['Sexo'], df['Estado Civil'], normalize = 'index')*100).round(2)"
   ]
  },
  {
   "cell_type": "markdown",
   "id": "f0f63b54",
   "metadata": {},
   "source": [
    "## Comparar as distribuições de renda dos consumidores segundo:\n",
    "o Sexo <Br>\n",
    "o Local de residência <Br>\n",
    "o Escolaridade <Br>\n",
    "o Emprego <Br>\n",
    "o Estado civil <Br>\n"
   ]
  },
  {
   "cell_type": "code",
   "execution_count": 72,
   "id": "4949f3be",
   "metadata": {},
   "outputs": [
    {
     "data": {
      "text/html": [
       "<div>\n",
       "<style scoped>\n",
       "    .dataframe tbody tr th:only-of-type {\n",
       "        vertical-align: middle;\n",
       "    }\n",
       "\n",
       "    .dataframe tbody tr th {\n",
       "        vertical-align: top;\n",
       "    }\n",
       "\n",
       "    .dataframe thead th {\n",
       "        text-align: right;\n",
       "    }\n",
       "</style>\n",
       "<table border=\"1\" class=\"dataframe\">\n",
       "  <thead>\n",
       "    <tr style=\"text-align: right;\">\n",
       "      <th></th>\n",
       "      <th>mean</th>\n",
       "      <th>median</th>\n",
       "      <th>count</th>\n",
       "    </tr>\n",
       "    <tr>\n",
       "      <th>Sexo</th>\n",
       "      <th></th>\n",
       "      <th></th>\n",
       "      <th></th>\n",
       "    </tr>\n",
       "  </thead>\n",
       "  <tbody>\n",
       "    <tr>\n",
       "      <th>Feminino</th>\n",
       "      <td>12.31</td>\n",
       "      <td>10.16</td>\n",
       "      <td>148</td>\n",
       "    </tr>\n",
       "    <tr>\n",
       "      <th>Masculino</th>\n",
       "      <td>15.84</td>\n",
       "      <td>14.54</td>\n",
       "      <td>102</td>\n",
       "    </tr>\n",
       "  </tbody>\n",
       "</table>\n",
       "</div>"
      ],
      "text/plain": [
       "            mean  median  count\n",
       "Sexo                           \n",
       "Feminino   12.31   10.16    148\n",
       "Masculino  15.84   14.54    102"
      ]
     },
     "execution_count": 72,
     "metadata": {},
     "output_type": "execute_result"
    }
   ],
   "source": [
    "renda_por_sexo = df.groupby('Sexo')['Renda'].agg(['mean','median', 'count']).round(2)\n",
    "renda_por_sexo"
   ]
  },
  {
   "cell_type": "code",
   "execution_count": 70,
   "id": "4c2ae750-45ab-40f0-b27d-b627f33ee625",
   "metadata": {},
   "outputs": [
    {
     "name": "stdout",
     "output_type": "stream",
     "text": [
      "            mean  median  count\n",
      "Sexo                           \n",
      "Feminino   12.31   10.16    148\n",
      "Masculino  15.84   14.54    102\n",
      "mean     12.73\n",
      "count    62.50\n",
      "dtype: float64\n",
      "                         mean  count\n",
      "Escolaridade                        \n",
      "Fundamental Completo     9.91     60\n",
      "Fundamental Incompleto  10.82      8\n",
      "Medio Completo          14.58     75\n",
      "Superior Completo       17.78     36\n",
      "Superior Incompleto     14.41     71\n",
      "                 mean  count\n",
      "Emprego                     \n",
      "Desempregado    15.10     69\n",
      "Tempo Integral  13.18    125\n",
      "Tempo Parcial   13.38     56\n",
      "                         mean  count\n",
      "Estado Civil                        \n",
      "Casado                  16.09    158\n",
      "Divorciado ou Separado   7.44     18\n",
      "Solteiro                11.15     57\n",
      "Uniao Estavel            9.76      9\n",
      "Viuvo                    4.82      8\n"
     ]
    }
   ],
   "source": [
    "\n",
    "\n",
    "renda_por_residencia = df.groupby('Local de Residencia')['Renda'].agg(['mean', 'count']).mean().round(2)\n",
    "print(renda_por_residencia)\n",
    "\n",
    "renda_por_escolaridade = df.groupby('Escolaridade')['Renda'].agg(['mean', 'count']).round(2)\n",
    "print(renda_por_escolaridade)\n",
    "\n",
    "renda_por_emprego = df.groupby('Emprego')['Renda'].agg(['mean', 'count']).round(2)\n",
    "print(renda_por_emprego)\n",
    "\n",
    "renda_por_estado = df.groupby('Estado Civil')['Renda'].agg(['mean', 'count']).round(2)\n",
    "print(renda_por_estado)"
   ]
  },
  {
   "cell_type": "code",
   "execution_count": 57,
   "id": "4ef1b36f",
   "metadata": {},
   "outputs": [
    {
     "data": {
      "text/plain": [
       "<Axes: xlabel='Emprego', ylabel='Renda'>"
      ]
     },
     "execution_count": 57,
     "metadata": {},
     "output_type": "execute_result"
    },
    {
     "data": {
      "text/plain": [
       "(array([0, 1, 2]),\n",
       " [Text(0, 0, 'Tempo Integral'),\n",
       "  Text(1, 0, 'Desempregado'),\n",
       "  Text(2, 0, 'Tempo Parcial')])"
      ]
     },
     "execution_count": 57,
     "metadata": {},
     "output_type": "execute_result"
    },
    {
     "data": {
      "text/plain": [
       "Text(0.5, 1.0, 'Distribuição da Renda por Tipo de Emprego')"
      ]
     },
     "execution_count": 57,
     "metadata": {},
     "output_type": "execute_result"
    },
    {
     "data": {
      "image/png": "[encoded data removed]",
      "text/plain": [
       "<Figure size 640x480 with 1 Axes>"
      ]
     },
     "metadata": {},
     "output_type": "display_data"
    }
   ],
   "source": [
    "sns.boxplot(x='Emprego', y='Renda', data=df)\n",
    "plt.xticks(rotation=45)\n",
    "plt.title('Distribuição da Renda por Tipo de Emprego')\n",
    "plt.show()\n"
   ]
  },
  {
   "cell_type": "code",
   "execution_count": 48,
   "id": "5ba70cae",
   "metadata": {},
   "outputs": [
    {
     "name": "stdout",
     "output_type": "stream",
     "text": [
      "            Emprego  Renda\n",
      "32    Tempo Parcial  35.69\n",
      "43     Desempregado  48.53\n",
      "62   Tempo Integral  43.13\n",
      "72   Tempo Integral  43.22\n",
      "76   Tempo Integral  35.99\n",
      "81     Desempregado  44.96\n",
      "87   Tempo Integral  36.46\n",
      "89     Desempregado  42.08\n",
      "103    Desempregado  34.63\n",
      "111   Tempo Parcial  40.91\n",
      "146    Desempregado  35.18\n",
      "154    Desempregado  47.06\n",
      "171  Tempo Integral  40.74\n",
      "181    Desempregado  40.94\n",
      "205  Tempo Integral  45.57\n",
      "237    Desempregado  43.57\n"
     ]
    }
   ],
   "source": [
    "\n"
   ]
  }
 ],
 "metadata": {
  "kernelspec": {
   "display_name": "Python 3 (ipykernel)",
   "language": "python",
   "name": "python3"
  },
  "language_info": {
   "codemirror_mode": {
    "name": "ipython",
    "version": 3
   },
   "file_extension": ".py",
   "mimetype": "text/x-python",
   "name": "python",
   "nbconvert_exporter": "python",
   "pygments_lexer": "ipython3",
   "version": "3.11.7"
  }
 },
 "nbformat": 4,
 "nbformat_minor": 5
}
